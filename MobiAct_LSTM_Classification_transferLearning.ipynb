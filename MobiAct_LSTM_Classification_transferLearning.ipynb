{
 "cells": [
  {
   "cell_type": "code",
   "execution_count": 1,
   "metadata": {
    "ExecuteTime": {
     "end_time": "2020-07-28T11:06:30.311722Z",
     "start_time": "2020-07-28T11:06:29.701965Z"
    }
   },
   "outputs": [],
   "source": [
    "import matplotlib.pyplot as plt\n",
    "import numpy as np\n",
    "import pandas as pd\n",
    "import tqdm\n",
    "import collections \n",
    "import time\n",
    "import glob\n",
    "%matplotlib inline\n",
    "\n",
    "from sklearn.model_selection import train_test_split\n",
    "from sklearn.preprocessing import LabelEncoder\n",
    "\n",
    "import torch\n",
    "from torch import nn\n",
    "from torch.nn import functional as F\n",
    "from torch.utils.data import TensorDataset, DataLoader\n",
    "from torch.optim.lr_scheduler import _LRScheduler"
   ]
  },
  {
   "cell_type": "code",
   "execution_count": 2,
   "metadata": {
    "ExecuteTime": {
     "end_time": "2020-07-28T11:06:30.479174Z",
     "start_time": "2020-07-28T11:06:30.469265Z"
    }
   },
   "outputs": [
    {
     "data": {
      "text/plain": [
       "'cuda:0'"
      ]
     },
     "execution_count": 2,
     "metadata": {},
     "output_type": "execute_result"
    }
   ],
   "source": [
    "np.random.seed(42)\n",
    "device = 'cuda:0' if torch.cuda.is_available() else 'cpu'\n",
    "device"
   ]
  },
  {
   "cell_type": "code",
   "execution_count": 3,
   "metadata": {
    "ExecuteTime": {
     "end_time": "2020-07-28T11:06:31.239961Z",
     "start_time": "2020-07-28T11:06:31.237291Z"
    }
   },
   "outputs": [],
   "source": [
    "fall_data_dir = \"/workspace/inkyung/Fall Detection/Mobidata_resampled(Smartfall)/fall/*.csv\"\n",
    "adl_data_dir = \"/workspace/inkyung/Fall Detection/Mobidata_resampled(Smartfall)/adl/*.csv\""
   ]
  },
  {
   "cell_type": "markdown",
   "metadata": {},
   "source": [
    "### Preprecessing\n",
    "\n",
    "- sliding window size of 40\n",
    "- if data contains all fall samples(30 samples) then label as 'FALL'\n",
    "- unless, it's all labelled as 'ADL'"
   ]
  },
  {
   "cell_type": "code",
   "execution_count": 4,
   "metadata": {
    "ExecuteTime": {
     "end_time": "2020-07-28T11:06:39.830987Z",
     "start_time": "2020-07-28T11:06:36.079852Z"
    }
   },
   "outputs": [
    {
     "data": {
      "application/vnd.jupyter.widget-view+json": {
       "model_id": "201cf9496ce24cfc8d953431150c2238",
       "version_major": 2,
       "version_minor": 0
      },
      "text/plain": [
       "HBox(children=(FloatProgress(value=0.0, max=767.0), HTML(value='')))"
      ]
     },
     "metadata": {},
     "output_type": "display_data"
    },
    {
     "name": "stdout",
     "output_type": "stream",
     "text": [
      "ADL\n",
      "ADL\n",
      "ADL\n",
      "ADL\n",
      "ADL\n",
      "\n"
     ]
    }
   ],
   "source": [
    "n = 40\n",
    "fall_X_list, fall_y_list = list(), list()\n",
    "for file in tqdm.notebook.tqdm(glob.glob(fall_data_dir)):\n",
    "    data = pd.read_csv(file)\n",
    "    for i in range(0, len(data) - 40):\n",
    "        temp = list()\n",
    "        temp.append(data['acc_x'][i : i + n])\n",
    "        temp.append(data['acc_y'][i : i + n])\n",
    "        temp.append(data['acc_z'][i : i + n])\n",
    "        \n",
    "        cnt = collections.Counter(data['label'][i: i + n])\n",
    "        num_adl = cnt[0]\n",
    "        num_fall = cnt[1]\n",
    "        if num_fall == 30:\n",
    "            fall_X_list.append(temp)\n",
    "            fall_y_list.append(1)\n",
    "        else:\n",
    "            print('ADL')"
   ]
  },
  {
   "cell_type": "code",
   "execution_count": 6,
   "metadata": {
    "ExecuteTime": {
     "end_time": "2020-07-28T11:06:45.482228Z",
     "start_time": "2020-07-28T11:06:39.838005Z"
    }
   },
   "outputs": [
    {
     "data": {
      "application/vnd.jupyter.widget-view+json": {
       "model_id": "74688d6fd09a45e8a4debf3aff17bfbb",
       "version_major": 2,
       "version_minor": 0
      },
      "text/plain": [
       "HBox(children=(FloatProgress(value=0.0, max=1469.0), HTML(value='')))"
      ]
     },
     "metadata": {},
     "output_type": "display_data"
    },
    {
     "name": "stdout",
     "output_type": "stream",
     "text": [
      "\n"
     ]
    }
   ],
   "source": [
    "n = 40\n",
    "adl_X_list, adl_y_list = list(), list()\n",
    "for file in tqdm.notebook.tqdm(glob.glob(adl_data_dir)):\n",
    "    data = pd.read_csv(file)\n",
    "    for i in range(0, len(data) - 40):\n",
    "        temp = list()\n",
    "        temp.append(data['acc_x'][i : i + n])\n",
    "        temp.append(data['acc_y'][i : i + n])\n",
    "        temp.append(data['acc_z'][i : i + n])\n",
    "        \n",
    "        adl_X_list.append(temp)\n",
    "        adl_y_list.append(0)"
   ]
  },
  {
   "cell_type": "code",
   "execution_count": 8,
   "metadata": {
    "ExecuteTime": {
     "end_time": "2020-07-28T11:07:07.895113Z",
     "start_time": "2020-07-28T11:07:07.875226Z"
    }
   },
   "outputs": [
    {
     "name": "stdout",
     "output_type": "stream",
     "text": [
      "the length of fall data 7665\n",
      "the total length of X data 15330\n"
     ]
    }
   ],
   "source": [
    "# to keep the balance between ADL and FALL data, used only the part of ADL data\n",
    "\n",
    "print('the length of fall data', len(fall_X_list))\n",
    "adl_X_list = adl_X_list[:7665]\n",
    "adl_y_list = adl_y_list[:7665]\n",
    "\n",
    "X_data = fall_X_list + adl_X_list\n",
    "y_data = fall_y_list + adl_y_list\n",
    "\n",
    "print('the total length of X data', len(X_data))"
   ]
  },
  {
   "cell_type": "code",
   "execution_count": 9,
   "metadata": {
    "ExecuteTime": {
     "end_time": "2020-07-28T11:07:08.683620Z",
     "start_time": "2020-07-28T11:07:08.667221Z"
    }
   },
   "outputs": [],
   "source": [
    "# splitting data into train, validation, test set\n",
    "X_train, X_test, y_train, y_test = train_test_split(X_data, y_data, test_size=0.2, random_state=42)\n",
    "X_train, X_valid, y_train, y_valid = train_test_split(X_train, y_train, test_size=0.3, random_state=42)"
   ]
  },
  {
   "cell_type": "code",
   "execution_count": 10,
   "metadata": {
    "ExecuteTime": {
     "end_time": "2020-07-28T11:07:12.572176Z",
     "start_time": "2020-07-28T11:07:09.818349Z"
    }
   },
   "outputs": [],
   "source": [
    "X_train = np.asarray(X_train).reshape(-1, 40, 3)\n",
    "y_train = np.asarray(y_train).reshape(-1, )\n",
    "\n",
    "X_valid = np.asarray(X_valid).reshape(-1, 40, 3)\n",
    "y_valid = np.asarray(y_valid).reshape(-1, )\n",
    "\n",
    "X_test = np.asarray(X_test).reshape(-1, 40, 3)\n",
    "y_test = np.asarray(y_test).reshape(-1, )"
   ]
  },
  {
   "cell_type": "code",
   "execution_count": 11,
   "metadata": {
    "ExecuteTime": {
     "end_time": "2020-07-28T11:07:12.582251Z",
     "start_time": "2020-07-28T11:07:12.573831Z"
    }
   },
   "outputs": [
    {
     "name": "stdout",
     "output_type": "stream",
     "text": [
      "size of X_train (8584, 40, 3)\n",
      "size of y_train (8584,)\n",
      "------------------------------\n",
      "size of X_valid (3680, 40, 3)\n",
      "size of y_valid (3680,)\n",
      "------------------------------\n",
      "size of X_test (3066, 40, 3)\n",
      "size of y_test (3066,)\n"
     ]
    }
   ],
   "source": [
    "print('size of X_train', X_train.shape)\n",
    "print('size of y_train', y_train.shape)\n",
    "print('------------------------------')\n",
    "print('size of X_valid', X_valid.shape)\n",
    "print('size of y_valid', y_valid.shape)\n",
    "print('------------------------------')\n",
    "print('size of X_test', X_test.shape)\n",
    "print('size of y_test', y_test.shape)"
   ]
  },
  {
   "cell_type": "code",
   "execution_count": 12,
   "metadata": {
    "ExecuteTime": {
     "end_time": "2020-07-28T11:07:12.590151Z",
     "start_time": "2020-07-28T11:07:12.586229Z"
    }
   },
   "outputs": [],
   "source": [
    "from sklearn.preprocessing import LabelEncoder\n",
    "enc = LabelEncoder()\n",
    "\n",
    "y_train = enc.fit_transform(y_train)\n",
    "y_valid = enc.fit_transform(y_valid)\n",
    "y_test = enc.fit_transform(y_test)"
   ]
  },
  {
   "cell_type": "code",
   "execution_count": 13,
   "metadata": {
    "ExecuteTime": {
     "end_time": "2020-07-28T11:07:13.387624Z",
     "start_time": "2020-07-28T11:07:13.379159Z"
    }
   },
   "outputs": [
    {
     "name": "stdout",
     "output_type": "stream",
     "text": [
      "[0 0 1 ... 0 0 1]\n",
      "[0 1 1 ... 1 1 0]\n",
      "[0 0 0 ... 0 0 1]\n"
     ]
    }
   ],
   "source": [
    "print(y_test)\n",
    "print(y_valid)\n",
    "print(y_train)"
   ]
  },
  {
   "cell_type": "code",
   "execution_count": 14,
   "metadata": {
    "ExecuteTime": {
     "end_time": "2020-07-28T11:07:14.120704Z",
     "start_time": "2020-07-28T11:07:14.115209Z"
    }
   },
   "outputs": [],
   "source": [
    "batch_size = 128\n",
    "\n",
    "train_data = TensorDataset(torch.from_numpy(X_train), torch.from_numpy(y_train))\n",
    "train_loader = torch.utils.data.DataLoader(train_data,\n",
    "                                           shuffle=True,\n",
    "                                           batch_size=batch_size)\n",
    "\n",
    "valid_data = TensorDataset(torch.from_numpy(X_valid), torch.from_numpy(y_valid))\n",
    "valid_loader = torch.utils.data.DataLoader(valid_data,\n",
    "                                           shuffle=True,\n",
    "                                           batch_size=batch_size)\n",
    "\n",
    "test_data = TensorDataset(torch.from_numpy(X_test), torch.from_numpy(y_test))\n",
    "test_loader = torch.utils.data.DataLoader(test_data,\n",
    "                                          shuffle=True,\n",
    "                                          batch_size=batch_size)"
   ]
  },
  {
   "cell_type": "code",
   "execution_count": 15,
   "metadata": {
    "ExecuteTime": {
     "end_time": "2020-07-28T11:07:14.891502Z",
     "start_time": "2020-07-28T11:07:14.883649Z"
    }
   },
   "outputs": [],
   "source": [
    "class LSTMNet(nn.Module):\n",
    "    def __init__(self, input_dim, hidden_dim, n_layers, output_dim):\n",
    "        super(LSTMNet, self).__init__()\n",
    "        self.hidden_dim = hidden_dim\n",
    "        self.n_layers = n_layers\n",
    "        \n",
    "        self.lstm = nn.LSTM(input_dim, hidden_dim, n_layers, batch_first=True)\n",
    "        self.fc = nn.Linear(hidden_dim, output_dim)\n",
    "        self.relu = nn.ReLU()\n",
    "        \n",
    "    def forward(self, x):\n",
    "        h0, c0 = self.init_hidden(x)\n",
    "        out, (hn, cn) = self.lstm(x, (h0, c0))\n",
    "        out = self.fc(self.relu(out[:, -1]))\n",
    "        return out\n",
    "    \n",
    "    def init_hidden(self, x):\n",
    "        h0 = torch.zeros(self.n_layers, x.size(0), self.hidden_dim)\n",
    "        c0 = torch.zeros(self.n_layers, x.size(0), self.hidden_dim)\n",
    "        return [t.cuda() for t in (h0, c0)]"
   ]
  },
  {
   "cell_type": "markdown",
   "metadata": {},
   "source": [
    "### Implementing cyclic learning rate\n",
    "- implmenting a simple cosine scheduler"
   ]
  },
  {
   "cell_type": "code",
   "execution_count": 16,
   "metadata": {
    "ExecuteTime": {
     "end_time": "2020-07-28T11:07:15.532090Z",
     "start_time": "2020-07-28T11:07:15.525457Z"
    }
   },
   "outputs": [],
   "source": [
    "class CyclicLR(_LRScheduler):\n",
    "    \n",
    "    def __init__(self, optimizer, schedule, last_epoch=-1):\n",
    "        assert callable(schedule)\n",
    "        self.schedule = schedule\n",
    "        super().__init__(optimizer, last_epoch)\n",
    "\n",
    "    def get_lr(self):\n",
    "        return [self.schedule(self.last_epoch, lr) for lr in self.base_lrs]"
   ]
  },
  {
   "cell_type": "code",
   "execution_count": 17,
   "metadata": {
    "ExecuteTime": {
     "end_time": "2020-07-28T11:07:16.211508Z",
     "start_time": "2020-07-28T11:07:16.205691Z"
    }
   },
   "outputs": [],
   "source": [
    "def cosine(t_max, eta_min=0):\n",
    "    \n",
    "    def scheduler(epoch, base_lr):\n",
    "        t = epoch % t_max\n",
    "        return eta_min + (base_lr - eta_min)*(1 + np.cos(np.pi*t/t_max))/2\n",
    "    \n",
    "    return scheduler"
   ]
  },
  {
   "cell_type": "code",
   "execution_count": 18,
   "metadata": {
    "ExecuteTime": {
     "end_time": "2020-07-28T11:07:16.936408Z",
     "start_time": "2020-07-28T11:07:16.802560Z"
    }
   },
   "outputs": [
    {
     "data": {
      "text/plain": [
       "[<matplotlib.lines.Line2D at 0x7f2645065050>]"
      ]
     },
     "execution_count": 18,
     "metadata": {},
     "output_type": "execute_result"
    },
    {
     "data": {
      "image/png": "[encoded data removed]",
      "text/plain": [
       "<Figure size 432x288 with 1 Axes>"
      ]
     },
     "metadata": {
      "needs_background": "light"
     },
     "output_type": "display_data"
    }
   ],
   "source": [
    "n = 100\n",
    "sched = cosine(n)\n",
    "lrs = [sched(t, 1) for t in range(n * 4)]\n",
    "plt.plot(lrs)"
   ]
  },
  {
   "cell_type": "code",
   "execution_count": 19,
   "metadata": {
    "ExecuteTime": {
     "end_time": "2020-07-28T11:07:19.297249Z",
     "start_time": "2020-07-28T11:07:17.626180Z"
    }
   },
   "outputs": [
    {
     "name": "stdout",
     "output_type": "stream",
     "text": [
      "LSTMNet(\n",
      "  (lstm): LSTM(3, 256, num_layers=2, batch_first=True)\n",
      "  (fc): Linear(in_features=256, out_features=2, bias=True)\n",
      "  (relu): ReLU()\n",
      ")\n"
     ]
    }
   ],
   "source": [
    "input_dim = next(iter(test_loader))[0].shape[2]\n",
    "output_dim = 2\n",
    "n_layers = 2\n",
    "hidden_dim = 256\n",
    "\n",
    "lr = 0.000001\n",
    "n_epochs = 200\n",
    "iterations_per_epoch = len(test_loader)\n",
    "best_acc = 0.\n",
    "patience, trials = 15, 0\n",
    "\n",
    "model = LSTMNet(input_dim, hidden_dim, output_dim, n_layers).cuda()\n",
    "print(model)\n",
    "criterion = nn.CrossEntropyLoss().cuda()\n",
    "optimizer = torch.optim.Adam(model.parameters(), lr=lr)\n",
    "sched = CyclicLR(optimizer, cosine(t_max=iterations_per_epoch * 2, eta_min = lr/10))\n",
    "epoch_times = []"
   ]
  },
  {
   "cell_type": "code",
   "execution_count": 20,
   "metadata": {
    "ExecuteTime": {
     "end_time": "2020-07-28T11:09:53.776542Z",
     "start_time": "2020-07-28T11:07:21.644699Z"
    },
    "scrolled": true
   },
   "outputs": [
    {
     "name": "stdout",
     "output_type": "stream",
     "text": [
      "Epoch 1 best model saved with accuracy: 86.17%\n",
      "Epoch 2 best model saved with accuracy: 87.15%\n",
      "Epoch 3 best model saved with accuracy: 87.69%\n",
      "Epoch 4 best model saved with accuracy: 88.53%\n",
      "Epoch:   5. Loss: 0.1169. Acc.: 89.02%\n",
      "Epoch 5 best model saved with accuracy: 89.02%\n",
      "Epoch 6 best model saved with accuracy: 89.70%\n",
      "Epoch 7 best model saved with accuracy: 90.08%\n",
      "Epoch 8 best model saved with accuracy: 90.52%\n",
      "Epoch 9 best model saved with accuracy: 90.95%\n",
      "Epoch:  10. Loss: 0.0764. Acc.: 91.25%\n",
      "Epoch 10 best model saved with accuracy: 91.25%\n",
      "Epoch 11 best model saved with accuracy: 91.77%\n",
      "Epoch 12 best model saved with accuracy: 91.93%\n",
      "Epoch 13 best model saved with accuracy: 92.20%\n",
      "Epoch 14 best model saved with accuracy: 92.39%\n",
      "Epoch:  15. Loss: 0.1250. Acc.: 92.55%\n",
      "Epoch 15 best model saved with accuracy: 92.55%\n",
      "Epoch 16 best model saved with accuracy: 92.88%\n",
      "Epoch 17 best model saved with accuracy: 93.42%\n",
      "Epoch 18 best model saved with accuracy: 93.78%\n",
      "Epoch 19 best model saved with accuracy: 93.97%\n",
      "Epoch:  20. Loss: 0.2538. Acc.: 94.16%\n",
      "Epoch 20 best model saved with accuracy: 94.16%\n",
      "Epoch 21 best model saved with accuracy: 94.21%\n",
      "Epoch 22 best model saved with accuracy: 94.43%\n",
      "Epoch 23 best model saved with accuracy: 94.59%\n",
      "Epoch 24 best model saved with accuracy: 94.70%\n",
      "Epoch:  25. Loss: 0.1078. Acc.: 94.81%\n",
      "Epoch 25 best model saved with accuracy: 94.81%\n",
      "Epoch 26 best model saved with accuracy: 94.89%\n",
      "Epoch 27 best model saved with accuracy: 94.97%\n",
      "Epoch 28 best model saved with accuracy: 95.11%\n",
      "Epoch 29 best model saved with accuracy: 95.14%\n",
      "Epoch:  30. Loss: 0.0276. Acc.: 95.19%\n",
      "Epoch 30 best model saved with accuracy: 95.19%\n",
      "Epoch 31 best model saved with accuracy: 95.30%\n",
      "Epoch 32 best model saved with accuracy: 95.49%\n",
      "Epoch 33 best model saved with accuracy: 95.54%\n",
      "Epoch 34 best model saved with accuracy: 95.60%\n",
      "Epoch:  35. Loss: 0.1210. Acc.: 95.62%\n",
      "Epoch 35 best model saved with accuracy: 95.62%\n",
      "Epoch 36 best model saved with accuracy: 95.73%\n",
      "Epoch 37 best model saved with accuracy: 95.87%\n",
      "Epoch 38 best model saved with accuracy: 95.98%\n",
      "Epoch 39 best model saved with accuracy: 96.09%\n",
      "Epoch:  40. Loss: 0.0384. Acc.: 96.11%\n",
      "Epoch 40 best model saved with accuracy: 96.11%\n",
      "Epoch 41 best model saved with accuracy: 96.17%\n",
      "Epoch 42 best model saved with accuracy: 96.22%\n",
      "Epoch 43 best model saved with accuracy: 96.28%\n",
      "Epoch:  45. Loss: 0.0486. Acc.: 96.39%\n",
      "Epoch 45 best model saved with accuracy: 96.39%\n",
      "Epoch 46 best model saved with accuracy: 96.47%\n",
      "Epoch 48 best model saved with accuracy: 96.55%\n",
      "Epoch:  50. Loss: 0.0427. Acc.: 96.52%\n",
      "Epoch 54 best model saved with accuracy: 96.58%\n",
      "Epoch:  55. Loss: 0.1273. Acc.: 96.66%\n",
      "Epoch 55 best model saved with accuracy: 96.66%\n",
      "Epoch 56 best model saved with accuracy: 96.68%\n",
      "Epoch 58 best model saved with accuracy: 96.74%\n",
      "Epoch 59 best model saved with accuracy: 96.77%\n",
      "Epoch:  60. Loss: 0.1631. Acc.: 96.77%\n",
      "Epoch 61 best model saved with accuracy: 96.79%\n",
      "Epoch 62 best model saved with accuracy: 96.88%\n",
      "Epoch 63 best model saved with accuracy: 96.93%\n",
      "Epoch 64 best model saved with accuracy: 96.98%\n",
      "Epoch:  65. Loss: 0.0241. Acc.: 97.01%\n",
      "Epoch 65 best model saved with accuracy: 97.01%\n",
      "Epoch 66 best model saved with accuracy: 97.04%\n",
      "Epoch 67 best model saved with accuracy: 97.09%\n",
      "Epoch:  70. Loss: 0.0478. Acc.: 97.17%\n",
      "Epoch 70 best model saved with accuracy: 97.17%\n",
      "Epoch 71 best model saved with accuracy: 97.20%\n",
      "Epoch 72 best model saved with accuracy: 97.26%\n",
      "Epoch 73 best model saved with accuracy: 97.36%\n",
      "Epoch:  75. Loss: 0.1454. Acc.: 97.50%\n",
      "Epoch 75 best model saved with accuracy: 97.50%\n",
      "Epoch 76 best model saved with accuracy: 97.53%\n",
      "Epoch 77 best model saved with accuracy: 97.58%\n",
      "Epoch 78 best model saved with accuracy: 97.66%\n",
      "Epoch 79 best model saved with accuracy: 97.69%\n",
      "Epoch:  80. Loss: 0.0124. Acc.: 97.72%\n",
      "Epoch 80 best model saved with accuracy: 97.72%\n",
      "Epoch 81 best model saved with accuracy: 97.77%\n",
      "Epoch 83 best model saved with accuracy: 97.80%\n",
      "Epoch 84 best model saved with accuracy: 97.83%\n",
      "Epoch:  85. Loss: 0.0255. Acc.: 97.85%\n",
      "Epoch 85 best model saved with accuracy: 97.85%\n",
      "Epoch 86 best model saved with accuracy: 97.91%\n",
      "Epoch 88 best model saved with accuracy: 97.99%\n",
      "Epoch:  90. Loss: 0.1848. Acc.: 97.96%\n",
      "Epoch 92 best model saved with accuracy: 98.04%\n",
      "Epoch 94 best model saved with accuracy: 98.07%\n",
      "Epoch:  95. Loss: 0.0287. Acc.: 98.07%\n",
      "Epoch: 100. Loss: 0.0034. Acc.: 98.04%\n",
      "Epoch 102 best model saved with accuracy: 98.10%\n",
      "Epoch: 105. Loss: 0.0230. Acc.: 98.12%\n",
      "Epoch 105 best model saved with accuracy: 98.12%\n",
      "Epoch 106 best model saved with accuracy: 98.18%\n",
      "Epoch 107 best model saved with accuracy: 98.21%\n",
      "Epoch 108 best model saved with accuracy: 98.23%\n",
      "Epoch: 110. Loss: 0.0522. Acc.: 98.23%\n",
      "Epoch 114 best model saved with accuracy: 98.26%\n",
      "Epoch: 115. Loss: 0.0210. Acc.: 98.29%\n",
      "Epoch 115 best model saved with accuracy: 98.29%\n",
      "Epoch 117 best model saved with accuracy: 98.32%\n",
      "Epoch 119 best model saved with accuracy: 98.34%\n",
      "Epoch: 120. Loss: 0.0174. Acc.: 98.34%\n",
      "Epoch 121 best model saved with accuracy: 98.37%\n",
      "Epoch 122 best model saved with accuracy: 98.40%\n",
      "Epoch 123 best model saved with accuracy: 98.42%\n",
      "Epoch: 125. Loss: 0.0074. Acc.: 98.42%\n",
      "Epoch 128 best model saved with accuracy: 98.45%\n",
      "Epoch: 130. Loss: 0.0091. Acc.: 98.45%\n",
      "Epoch 131 best model saved with accuracy: 98.51%\n",
      "Epoch 132 best model saved with accuracy: 98.53%\n",
      "Epoch 133 best model saved with accuracy: 98.56%\n",
      "Epoch: 135. Loss: 0.0320. Acc.: 98.56%\n",
      "Epoch 136 best model saved with accuracy: 98.59%\n",
      "Epoch 137 best model saved with accuracy: 98.61%\n",
      "Epoch 138 best model saved with accuracy: 98.64%\n",
      "Epoch: 140. Loss: 0.0118. Acc.: 98.70%\n",
      "Epoch 140 best model saved with accuracy: 98.70%\n",
      "Epoch 141 best model saved with accuracy: 98.72%\n",
      "Epoch 142 best model saved with accuracy: 98.75%\n",
      "Epoch 143 best model saved with accuracy: 98.78%\n",
      "Epoch: 145. Loss: 0.0118. Acc.: 98.75%\n",
      "Epoch 147 best model saved with accuracy: 98.80%\n",
      "Epoch 149 best model saved with accuracy: 98.83%\n",
      "Epoch: 150. Loss: 0.1158. Acc.: 98.83%\n",
      "Epoch 152 best model saved with accuracy: 98.86%\n",
      "Epoch: 155. Loss: 0.0084. Acc.: 98.86%\n",
      "Epoch: 160. Loss: 0.0051. Acc.: 98.86%\n",
      "Epoch 162 best model saved with accuracy: 98.91%\n",
      "Epoch: 165. Loss: 0.0123. Acc.: 98.91%\n",
      "Epoch 168 best model saved with accuracy: 98.94%\n",
      "Epoch: 170. Loss: 0.2015. Acc.: 98.91%\n",
      "Epoch 172 best model saved with accuracy: 98.97%\n",
      "Epoch 174 best model saved with accuracy: 98.99%\n",
      "Epoch: 175. Loss: 0.0287. Acc.: 98.97%\n",
      "Epoch 176 best model saved with accuracy: 99.02%\n",
      "Epoch: 180. Loss: 0.0110. Acc.: 99.02%\n",
      "Epoch 182 best model saved with accuracy: 99.05%\n",
      "Epoch: 185. Loss: 0.0369. Acc.: 99.05%\n",
      "Epoch 186 best model saved with accuracy: 99.08%\n",
      "Epoch 187 best model saved with accuracy: 99.10%\n",
      "Epoch: 190. Loss: 0.0728. Acc.: 99.10%\n",
      "Epoch 191 best model saved with accuracy: 99.13%\n",
      "Epoch: 195. Loss: 0.0069. Acc.: 99.13%\n",
      "Epoch: 200. Loss: 0.0139. Acc.: 99.13%\n",
      "Total Training Time: 127.22928340500002 seconds\n"
     ]
    }
   ],
   "source": [
    "\"\"\"\n",
    "relearning the model using pretrained model by SmartFall data\n",
    "\"\"\"\n",
    "model.load_state_dict(torch.load('SmartFall_lstm.pth'))\n",
    "train_loss, train_acc = list(), list()\n",
    "for epoch in range(1, n_epochs + 1):\n",
    "    start_time = time.process_time()\n",
    "    for i, (X_batch, y_batch) in enumerate(train_loader):\n",
    "        model.train()\n",
    "        X_batch = X_batch.float().cuda()\n",
    "        y_batch = y_batch.cuda()\n",
    "        optimizer.zero_grad()\n",
    "        out = model(X_batch)\n",
    "        loss = criterion(out, y_batch)\n",
    "        loss.backward()\n",
    "        optimizer.step()\n",
    "        prediction = F.log_softmax(out, dim=1).argmax(dim=1)\n",
    "        sched.step()\n",
    "    current_time = time.process_time()\n",
    "    epoch_times.append(current_time-start_time)\n",
    "    \n",
    "    model.eval()\n",
    "    correct, total = 0, 0\n",
    "    for x_val, y_val in valid_loader:\n",
    "        x_val, y_val = [t.cuda() for t in (x_val.float(), y_val)]\n",
    "        out = model(x_val)\n",
    "        preds = F.log_softmax(out, dim=1).argmax(dim=1)\n",
    "        total += y_val.size(0)\n",
    "        correct += (preds == y_val).sum().item()\n",
    "        \n",
    "    acc = correct / total\n",
    "    train_loss.append(loss.item())\n",
    "    train_acc.append(acc)\n",
    "    \n",
    "    if epoch % 5 == 0:\n",
    "        print(f'Epoch: {epoch:3d}. Loss: {loss.item():.4f}. Acc.: {acc:2.2%}')\n",
    "        \n",
    "    if acc > best_acc:\n",
    "        trials = 0\n",
    "        best_acc = acc\n",
    "        torch.save(model.state_dict(), 'SmartFall_lstm_transfer_learning_to_MobiAct.pth')\n",
    "        print(f'Epoch {epoch} best model saved with accuracy: {best_acc:2.2%}')\n",
    "    else:\n",
    "        trials += 1\n",
    "        if trials >= patience:\n",
    "            print(f'Early stopping on epoch {epoch}')\n",
    "            break\n",
    "print(\"Total Training Time: {} seconds\".format(str(sum(epoch_times))))"
   ]
  },
  {
   "cell_type": "code",
   "execution_count": 25,
   "metadata": {
    "ExecuteTime": {
     "end_time": "2020-07-28T11:09:58.271496Z",
     "start_time": "2020-07-28T11:09:58.126327Z"
    }
   },
   "outputs": [
    {
     "data": {
      "image/png": "[encoded data removed]",
      "text/plain": [
       "<Figure size 720x216 with 2 Axes>"
      ]
     },
     "metadata": {
      "needs_background": "light"
     },
     "output_type": "display_data"
    }
   ],
   "source": [
    "plt.figure(figsize=(10, 3))\n",
    "plt.suptitle('LSTM Model', fontsize=20, y=1.1)\n",
    "plt.subplot(1, 2, 1)\n",
    "plt.plot(np.arange(len(train_loss)), train_loss)\n",
    "plt.yticks([0.0, 0.5, 1.0], fontsize=15)\n",
    "plt.xticks([0, 100, 200], fontsize=15)\n",
    "plt.title('Loss', fontsize=20)\n",
    "\n",
    "plt.subplot(1, 2, 2)\n",
    "plt.plot(np.arange(len(train_acc)), train_acc)\n",
    "plt.yticks(fontsize=15)\n",
    "plt.xticks([0, 100, 200], fontsize=15)\n",
    "plt.title('Accuracy',fontsize=20)\n",
    "plt.subplots_adjust(hspace=1)\n",
    "\n",
    "plt.show()"
   ]
  },
  {
   "cell_type": "code",
   "execution_count": 26,
   "metadata": {
    "ExecuteTime": {
     "end_time": "2020-07-28T11:10:08.542763Z",
     "start_time": "2020-07-28T11:10:08.533961Z"
    }
   },
   "outputs": [],
   "source": [
    "lstm_transfer = pd.DataFrame(train_loss)\n",
    "lstm_transfer.columns = ['train_loss']\n",
    "lstm_transfer['train_acc'] = pd.DataFrame(train_acc)\n",
    "lstm_transfer.to_csv('lstm_transfer')"
   ]
  },
  {
   "cell_type": "code",
   "execution_count": 27,
   "metadata": {
    "ExecuteTime": {
     "end_time": "2020-07-28T11:10:10.115389Z",
     "start_time": "2020-07-28T11:10:09.988861Z"
    }
   },
   "outputs": [
    {
     "name": "stdout",
     "output_type": "stream",
     "text": [
      "99.31506849315069\n",
      "[[1528   10]\n",
      " [  11 1517]]\n"
     ]
    }
   ],
   "source": [
    "# evaluation with test dataset\n",
    "from sklearn.metrics import classification_report, confusion_matrix, accuracy_score\n",
    "\n",
    "targets = list()\n",
    "preds = list()\n",
    "correct = 0\n",
    "model.load_state_dict(torch.load('SmartFall_lstm_transfer_learning_to_MobiAct.pth'))\n",
    "with torch.no_grad():\n",
    "    for X, y in test_loader:\n",
    "        X, y = X.cuda(), y.cuda()\n",
    "        output = model(X.float())\n",
    "        pred = output.max(1, keepdim=True)[1]\n",
    "        correct += pred.eq(y.view_as(pred)).sum().item()\n",
    "\n",
    "        targets += list(y.cpu().numpy())\n",
    "        preds += list(pred.cpu().numpy())\n",
    "\n",
    "test_acc = 100. * correct / len(test_loader.dataset)\n",
    "confusion_mtx = confusion_matrix(targets, preds)\n",
    "print(test_acc)\n",
    "print(confusion_mtx)"
   ]
  },
  {
   "cell_type": "code",
   "execution_count": 28,
   "metadata": {
    "ExecuteTime": {
     "end_time": "2020-07-28T11:10:10.957209Z",
     "start_time": "2020-07-28T11:10:10.941302Z"
    }
   },
   "outputs": [
    {
     "name": "stdout",
     "output_type": "stream",
     "text": [
      "              precision    recall  f1-score   support\n",
      "\n",
      "           0       0.99      0.99      0.99      1538\n",
      "           1       0.99      0.99      0.99      1528\n",
      "\n",
      "    accuracy                           0.99      3066\n",
      "   macro avg       0.99      0.99      0.99      3066\n",
      "weighted avg       0.99      0.99      0.99      3066\n",
      "\n"
     ]
    }
   ],
   "source": [
    "print(classification_report(targets, preds))"
   ]
  },
  {
   "cell_type": "code",
   "execution_count": 29,
   "metadata": {
    "ExecuteTime": {
     "end_time": "2020-07-28T11:10:13.374241Z",
     "start_time": "2020-07-28T11:10:13.341582Z"
    }
   },
   "outputs": [
    {
     "name": "stdout",
     "output_type": "stream",
     "text": [
      "precision score:  0.9934512115258677\n",
      "recall score:  0.9928010471204188\n",
      "f1 score:  0.9931260229132569\n"
     ]
    }
   ],
   "source": [
    "from sklearn.metrics import f1_score, precision_score, recall_score\n",
    "\n",
    "print('precision score: ', precision_score(targets, preds))\n",
    "print('recall score: ', recall_score(targets, preds))\n",
    "print('f1 score: ', f1_score(targets, preds))"
   ]
  },
  {
   "cell_type": "code",
   "execution_count": null,
   "metadata": {},
   "outputs": [],
   "source": []
  }
 ],
 "metadata": {
  "kernelspec": {
   "display_name": "Python 3",
   "language": "python",
   "name": "python3"
  },
  "language_info": {
   "codemirror_mode": {
    "name": "ipython",
    "version": 3
   },
   "file_extension": ".py",
   "mimetype": "text/x-python",
   "name": "python",
   "nbconvert_exporter": "python",
   "pygments_lexer": "ipython3",
   "version": "3.7.6"
  },
  "toc": {
   "base_numbering": 1,
   "nav_menu": {},
   "number_sections": false,
   "sideBar": true,
   "skip_h1_title": false,
   "title_cell": "Table of Contents",
   "title_sidebar": "Contents",
   "toc_cell": false,
   "toc_position": {},
   "toc_section_display": true,
   "toc_window_display": false
  }
 },
 "nbformat": 4,
 "nbformat_minor": 2
}
