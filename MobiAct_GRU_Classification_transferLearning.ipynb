{
 "cells": [
  {
   "cell_type": "code",
   "execution_count": 1,
   "metadata": {
    "ExecuteTime": {
     "end_time": "2020-07-28T11:01:14.428949Z",
     "start_time": "2020-07-28T11:01:13.764893Z"
    }
   },
   "outputs": [],
   "source": [
    "import matplotlib.pyplot as plt\n",
    "import numpy as np\n",
    "import pandas as pd\n",
    "import tqdm\n",
    "import collections \n",
    "import time\n",
    "import glob\n",
    "%matplotlib inline\n",
    "\n",
    "from sklearn.model_selection import train_test_split\n",
    "from sklearn.preprocessing import LabelEncoder\n",
    "\n",
    "import torch\n",
    "from torch import nn\n",
    "from torch.nn import functional as F\n",
    "from torch.utils.data import TensorDataset, DataLoader\n",
    "from torch.optim.lr_scheduler import _LRScheduler"
   ]
  },
  {
   "cell_type": "code",
   "execution_count": 2,
   "metadata": {
    "ExecuteTime": {
     "end_time": "2020-07-28T11:01:15.383236Z",
     "start_time": "2020-07-28T11:01:15.373221Z"
    }
   },
   "outputs": [
    {
     "data": {
      "text/plain": [
       "'cuda:0'"
      ]
     },
     "execution_count": 2,
     "metadata": {},
     "output_type": "execute_result"
    }
   ],
   "source": [
    "np.random.seed(42)\n",
    "device = 'cuda:0' if torch.cuda.is_available() else 'cpu'\n",
    "device"
   ]
  },
  {
   "cell_type": "code",
   "execution_count": 3,
   "metadata": {
    "ExecuteTime": {
     "end_time": "2020-07-28T11:01:17.583089Z",
     "start_time": "2020-07-28T11:01:17.580313Z"
    }
   },
   "outputs": [],
   "source": [
    "fall_data_dir = \"/workspace/inkyung/Fall Detection/Mobidata_resampled(Smartfall)/fall/*.csv\"\n",
    "adl_data_dir = \"/workspace/inkyung/Fall Detection/Mobidata_resampled(Smartfall)/adl/*.csv\""
   ]
  },
  {
   "cell_type": "markdown",
   "metadata": {},
   "source": [
    "### Preprecessing\n",
    "\n",
    "- sliding window size of 40\n",
    "- if data contains all fall samples(30 samples) then label as 'FALL'\n",
    "- unless, it's all labelled as 'ADL'"
   ]
  },
  {
   "cell_type": "code",
   "execution_count": 4,
   "metadata": {
    "ExecuteTime": {
     "end_time": "2020-07-28T11:01:46.616043Z",
     "start_time": "2020-07-28T11:01:42.862836Z"
    }
   },
   "outputs": [
    {
     "data": {
      "application/vnd.jupyter.widget-view+json": {
       "model_id": "08b560922d5e4b0b9d4ca9f37c5d0cfe",
       "version_major": 2,
       "version_minor": 0
      },
      "text/plain": [
       "HBox(children=(FloatProgress(value=0.0, max=767.0), HTML(value='')))"
      ]
     },
     "metadata": {},
     "output_type": "display_data"
    },
    {
     "name": "stdout",
     "output_type": "stream",
     "text": [
      "ADL\n",
      "ADL\n",
      "ADL\n",
      "ADL\n",
      "ADL\n",
      "\n"
     ]
    }
   ],
   "source": [
    "n = 40\n",
    "fall_X_list, fall_y_list = list(), list()\n",
    "for file in tqdm.notebook.tqdm(glob.glob(fall_data_dir)):\n",
    "    data = pd.read_csv(file)\n",
    "    for i in range(0, len(data) - 40):\n",
    "        temp = list()\n",
    "        temp.append(data['acc_x'][i : i + n])\n",
    "        temp.append(data['acc_y'][i : i + n])\n",
    "        temp.append(data['acc_z'][i : i + n])\n",
    "        \n",
    "        cnt = collections.Counter(data['label'][i: i + n])\n",
    "        num_adl = cnt[0]\n",
    "        num_fall = cnt[1]\n",
    "        if num_fall == 30:\n",
    "            fall_X_list.append(temp)\n",
    "            fall_y_list.append(1)\n",
    "        else:\n",
    "            print('ADL')"
   ]
  },
  {
   "cell_type": "code",
   "execution_count": 5,
   "metadata": {
    "ExecuteTime": {
     "end_time": "2020-07-28T11:01:58.833716Z",
     "start_time": "2020-07-28T11:01:53.186104Z"
    }
   },
   "outputs": [
    {
     "data": {
      "application/vnd.jupyter.widget-view+json": {
       "model_id": "3882f79de44549e68deff3aa4c3744b0",
       "version_major": 2,
       "version_minor": 0
      },
      "text/plain": [
       "HBox(children=(FloatProgress(value=0.0, max=1469.0), HTML(value='')))"
      ]
     },
     "metadata": {},
     "output_type": "display_data"
    },
    {
     "name": "stdout",
     "output_type": "stream",
     "text": [
      "\n"
     ]
    }
   ],
   "source": [
    "n = 40\n",
    "adl_X_list, adl_y_list = list(), list()\n",
    "for file in tqdm.notebook.tqdm(glob.glob(adl_data_dir)):\n",
    "    data = pd.read_csv(file)\n",
    "    for i in range(0, len(data) - 40):\n",
    "        temp = list()\n",
    "        temp.append(data['acc_x'][i : i + n])\n",
    "        temp.append(data['acc_y'][i : i + n])\n",
    "        temp.append(data['acc_z'][i : i + n])\n",
    "        \n",
    "        adl_X_list.append(temp)\n",
    "        adl_y_list.append(0)"
   ]
  },
  {
   "cell_type": "code",
   "execution_count": 7,
   "metadata": {
    "ExecuteTime": {
     "end_time": "2020-07-28T11:02:49.489270Z",
     "start_time": "2020-07-28T11:02:49.481985Z"
    }
   },
   "outputs": [
    {
     "name": "stdout",
     "output_type": "stream",
     "text": [
      "the length of fall data 7665\n",
      "the total length of X data 15330\n"
     ]
    }
   ],
   "source": [
    "# to keep the balance between ADL and FALL data, used only the part of ADL data\n",
    "\n",
    "print('the length of fall data', len(fall_X_list))\n",
    "adl_X_list = adl_X_list[:7665]\n",
    "adl_y_list = adl_y_list[:7665]\n",
    "\n",
    "X_data = fall_X_list + adl_X_list\n",
    "y_data = fall_y_list + adl_y_list\n",
    "\n",
    "print('the total length of X data', len(X_data))"
   ]
  },
  {
   "cell_type": "code",
   "execution_count": 8,
   "metadata": {
    "ExecuteTime": {
     "end_time": "2020-07-28T11:03:06.292454Z",
     "start_time": "2020-07-28T11:03:06.275954Z"
    }
   },
   "outputs": [],
   "source": [
    "# splitting data into train, validation, test set\n",
    "X_train, X_test, y_train, y_test = train_test_split(X_data, y_data, test_size=0.2, random_state=42)\n",
    "X_train, X_valid, y_train, y_valid = train_test_split(X_train, y_train, test_size=0.3, random_state=42)"
   ]
  },
  {
   "cell_type": "code",
   "execution_count": 9,
   "metadata": {
    "ExecuteTime": {
     "end_time": "2020-07-28T11:03:10.664965Z",
     "start_time": "2020-07-28T11:03:08.010710Z"
    }
   },
   "outputs": [],
   "source": [
    "X_train = np.asarray(X_train).reshape(-1, 40, 3)\n",
    "y_train = np.asarray(y_train).reshape(-1, )\n",
    "\n",
    "X_valid = np.asarray(X_valid).reshape(-1, 40, 3)\n",
    "y_valid = np.asarray(y_valid).reshape(-1, )\n",
    "\n",
    "X_test = np.asarray(X_test).reshape(-1, 40, 3)\n",
    "y_test = np.asarray(y_test).reshape(-1, )"
   ]
  },
  {
   "cell_type": "code",
   "execution_count": 10,
   "metadata": {
    "ExecuteTime": {
     "end_time": "2020-07-28T11:03:11.258212Z",
     "start_time": "2020-07-28T11:03:11.250961Z"
    }
   },
   "outputs": [
    {
     "name": "stdout",
     "output_type": "stream",
     "text": [
      "size of X_train (8584, 40, 3)\n",
      "size of y_train (8584,)\n",
      "------------------------------\n",
      "size of X_valid (3680, 40, 3)\n",
      "size of y_valid (3680,)\n",
      "------------------------------\n",
      "size of X_test (3066, 40, 3)\n",
      "size of y_test (3066,)\n"
     ]
    }
   ],
   "source": [
    "print('size of X_train', X_train.shape)\n",
    "print('size of y_train', y_train.shape)\n",
    "print('------------------------------')\n",
    "print('size of X_valid', X_valid.shape)\n",
    "print('size of y_valid', y_valid.shape)\n",
    "print('------------------------------')\n",
    "print('size of X_test', X_test.shape)\n",
    "print('size of y_test', y_test.shape)"
   ]
  },
  {
   "cell_type": "code",
   "execution_count": 11,
   "metadata": {
    "ExecuteTime": {
     "end_time": "2020-07-28T11:03:13.497936Z",
     "start_time": "2020-07-28T11:03:13.492887Z"
    }
   },
   "outputs": [],
   "source": [
    "from sklearn.preprocessing import LabelEncoder\n",
    "enc = LabelEncoder()\n",
    "\n",
    "y_train = enc.fit_transform(y_train)\n",
    "y_valid = enc.fit_transform(y_valid)\n",
    "y_test = enc.fit_transform(y_test)"
   ]
  },
  {
   "cell_type": "code",
   "execution_count": 12,
   "metadata": {
    "ExecuteTime": {
     "end_time": "2020-07-28T11:03:16.984977Z",
     "start_time": "2020-07-28T11:03:16.979724Z"
    }
   },
   "outputs": [],
   "source": [
    "batch_size = 128\n",
    "\n",
    "train_data = TensorDataset(torch.from_numpy(X_train), torch.from_numpy(y_train))\n",
    "train_loader = torch.utils.data.DataLoader(train_data,\n",
    "                                           shuffle=True,\n",
    "                                           batch_size=batch_size)\n",
    "\n",
    "valid_data = TensorDataset(torch.from_numpy(X_valid), torch.from_numpy(y_valid))\n",
    "valid_loader = torch.utils.data.DataLoader(valid_data,\n",
    "                                           shuffle=True,\n",
    "                                           batch_size=batch_size)\n",
    "\n",
    "test_data = TensorDataset(torch.from_numpy(X_test), torch.from_numpy(y_test))\n",
    "test_loader = torch.utils.data.DataLoader(test_data,\n",
    "                                          shuffle=True,\n",
    "                                          batch_size=batch_size)"
   ]
  },
  {
   "cell_type": "code",
   "execution_count": 13,
   "metadata": {
    "ExecuteTime": {
     "end_time": "2020-07-28T11:03:18.482257Z",
     "start_time": "2020-07-28T11:03:18.475762Z"
    }
   },
   "outputs": [],
   "source": [
    "class GRUNet(nn.Module):\n",
    "    def __init__(self, input_dim, hidden_dim, output_dim, n_layers):\n",
    "        super(GRUNet, self).__init__()\n",
    "        self.hidden_dim = hidden_dim\n",
    "        self.n_layers = n_layers\n",
    "        \n",
    "        self.GRU = nn.GRU(input_size = input_dim,\n",
    "                          hidden_size = hidden_dim, \n",
    "                          num_layers = n_layers,\n",
    "                          batch_first=True)\n",
    "        self.fc = nn.Linear(hidden_dim, output_dim)\n",
    "        self.relu = nn.ReLU()\n",
    "        \n",
    "    def forward(self, x):\n",
    "        h0 = self.init_hidden(x)\n",
    "        out, hn = self.GRU(x, h0)\n",
    "        out = self.fc(self.relu(out[:, -1]))\n",
    "        return out\n",
    "    \n",
    "    def init_hidden(self, x):\n",
    "        h0 = torch.zeros(self.n_layers, x.size(0), self.hidden_dim)\n",
    "        return h0.cuda()"
   ]
  },
  {
   "cell_type": "markdown",
   "metadata": {},
   "source": [
    "### Implementing cyclic learning rate\n",
    "- implmenting a simple cosine scheduler"
   ]
  },
  {
   "cell_type": "code",
   "execution_count": 14,
   "metadata": {
    "ExecuteTime": {
     "end_time": "2020-07-28T11:03:43.798856Z",
     "start_time": "2020-07-28T11:03:43.791940Z"
    }
   },
   "outputs": [],
   "source": [
    "class CyclicLR(_LRScheduler):\n",
    "    \n",
    "    def __init__(self, optimizer, schedule, last_epoch=-1):\n",
    "        assert callable(schedule)\n",
    "        self.schedule = schedule\n",
    "        super().__init__(optimizer, last_epoch)\n",
    "\n",
    "    def get_lr(self):\n",
    "        return [self.schedule(self.last_epoch, lr) for lr in self.base_lrs]"
   ]
  },
  {
   "cell_type": "code",
   "execution_count": 15,
   "metadata": {
    "ExecuteTime": {
     "end_time": "2020-07-28T11:03:44.939792Z",
     "start_time": "2020-07-28T11:03:44.935895Z"
    }
   },
   "outputs": [],
   "source": [
    "def cosine(t_max, eta_min=0):\n",
    "    \n",
    "    def scheduler(epoch, base_lr):\n",
    "        t = epoch % t_max\n",
    "        return eta_min + (base_lr - eta_min)*(1 + np.cos(np.pi*t/t_max))/2\n",
    "    \n",
    "    return scheduler"
   ]
  },
  {
   "cell_type": "code",
   "execution_count": 16,
   "metadata": {
    "ExecuteTime": {
     "end_time": "2020-07-28T11:03:45.789594Z",
     "start_time": "2020-07-28T11:03:45.656035Z"
    }
   },
   "outputs": [
    {
     "data": {
      "text/plain": [
       "[<matplotlib.lines.Line2D at 0x7f7a84e2d110>]"
      ]
     },
     "execution_count": 16,
     "metadata": {},
     "output_type": "execute_result"
    },
    {
     "data": {
      "image/png": "[encoded data removed]",
      "text/plain": [
       "<Figure size 432x288 with 1 Axes>"
      ]
     },
     "metadata": {
      "needs_background": "light"
     },
     "output_type": "display_data"
    }
   ],
   "source": [
    "n = 100\n",
    "sched = cosine(n)\n",
    "lrs = [sched(t, 1) for t in range(n * 4)]\n",
    "plt.plot(lrs)"
   ]
  },
  {
   "cell_type": "code",
   "execution_count": 17,
   "metadata": {
    "ExecuteTime": {
     "end_time": "2020-07-28T11:03:54.566173Z",
     "start_time": "2020-07-28T11:03:53.011411Z"
    }
   },
   "outputs": [
    {
     "name": "stdout",
     "output_type": "stream",
     "text": [
      "GRUNet(\n",
      "  (GRU): GRU(3, 256, num_layers=2, batch_first=True)\n",
      "  (fc): Linear(in_features=256, out_features=2, bias=True)\n",
      "  (relu): ReLU()\n",
      ")\n"
     ]
    }
   ],
   "source": [
    "input_dim = next(iter(test_loader))[0].shape[2]\n",
    "output_dim = 2\n",
    "n_layers = 2\n",
    "hidden_dim = 256\n",
    "\n",
    "lr = 0.000001\n",
    "n_epochs = 100\n",
    "iterations_per_epoch = len(test_loader)\n",
    "best_acc = 0.\n",
    "patience, trials = 15, 0\n",
    "\n",
    "model = GRUNet(input_dim, hidden_dim, output_dim, n_layers).cuda()\n",
    "print(model)\n",
    "criterion = nn.CrossEntropyLoss().cuda()\n",
    "optimizer = torch.optim.Adam(model.parameters(), lr=lr)\n",
    "sched = CyclicLR(optimizer, cosine(t_max=iterations_per_epoch * 2, eta_min = lr/10))\n",
    "epoch_times = []"
   ]
  },
  {
   "cell_type": "code",
   "execution_count": 18,
   "metadata": {
    "ExecuteTime": {
     "end_time": "2020-07-28T11:05:26.052872Z",
     "start_time": "2020-07-28T11:04:21.418957Z"
    },
    "scrolled": true
   },
   "outputs": [
    {
     "name": "stdout",
     "output_type": "stream",
     "text": [
      "Epoch 1 best model saved with accuracy: 51.79%\n",
      "Epoch 2 best model saved with accuracy: 52.12%\n",
      "Epoch 3 best model saved with accuracy: 52.45%\n",
      "Epoch 4 best model saved with accuracy: 52.93%\n",
      "Epoch:   5. Loss: 1.1859. Acc.: 53.64%\n",
      "Epoch 5 best model saved with accuracy: 53.64%\n",
      "Epoch 6 best model saved with accuracy: 54.73%\n",
      "Epoch 7 best model saved with accuracy: 55.35%\n",
      "Epoch 8 best model saved with accuracy: 56.39%\n",
      "Epoch 9 best model saved with accuracy: 57.20%\n",
      "Epoch:  10. Loss: 0.6988. Acc.: 59.24%\n",
      "Epoch 10 best model saved with accuracy: 59.24%\n",
      "Epoch 11 best model saved with accuracy: 61.25%\n",
      "Epoch 12 best model saved with accuracy: 62.64%\n",
      "Epoch 13 best model saved with accuracy: 64.57%\n",
      "Epoch 14 best model saved with accuracy: 65.65%\n",
      "Epoch:  15. Loss: 1.1071. Acc.: 67.17%\n",
      "Epoch 15 best model saved with accuracy: 67.17%\n",
      "Epoch 16 best model saved with accuracy: 68.64%\n",
      "Epoch 17 best model saved with accuracy: 70.00%\n",
      "Epoch 18 best model saved with accuracy: 71.85%\n",
      "Epoch 19 best model saved with accuracy: 73.21%\n",
      "Epoch:  20. Loss: 0.1923. Acc.: 74.29%\n",
      "Epoch 20 best model saved with accuracy: 74.29%\n",
      "Epoch 21 best model saved with accuracy: 74.97%\n",
      "Epoch 22 best model saved with accuracy: 75.84%\n",
      "Epoch 23 best model saved with accuracy: 76.88%\n",
      "Epoch 24 best model saved with accuracy: 77.74%\n",
      "Epoch:  25. Loss: 1.1604. Acc.: 78.59%\n",
      "Epoch 25 best model saved with accuracy: 78.59%\n",
      "Epoch 26 best model saved with accuracy: 79.40%\n",
      "Epoch 27 best model saved with accuracy: 80.19%\n",
      "Epoch 28 best model saved with accuracy: 80.76%\n",
      "Epoch 29 best model saved with accuracy: 81.25%\n",
      "Epoch:  30. Loss: 0.3290. Acc.: 82.01%\n",
      "Epoch 30 best model saved with accuracy: 82.01%\n",
      "Epoch 31 best model saved with accuracy: 82.31%\n",
      "Epoch 32 best model saved with accuracy: 83.07%\n",
      "Epoch 33 best model saved with accuracy: 83.45%\n",
      "Epoch 34 best model saved with accuracy: 83.99%\n",
      "Epoch:  35. Loss: 0.4668. Acc.: 84.46%\n",
      "Epoch 35 best model saved with accuracy: 84.46%\n",
      "Epoch 36 best model saved with accuracy: 84.84%\n",
      "Epoch 37 best model saved with accuracy: 85.11%\n",
      "Epoch 38 best model saved with accuracy: 85.33%\n",
      "Epoch 39 best model saved with accuracy: 85.76%\n",
      "Epoch:  40. Loss: 0.3399. Acc.: 85.90%\n",
      "Epoch 40 best model saved with accuracy: 85.90%\n",
      "Epoch 41 best model saved with accuracy: 86.28%\n",
      "Epoch 42 best model saved with accuracy: 86.44%\n",
      "Epoch 43 best model saved with accuracy: 86.77%\n",
      "Epoch 44 best model saved with accuracy: 86.93%\n",
      "Epoch:  45. Loss: 0.1752. Acc.: 87.23%\n",
      "Epoch 45 best model saved with accuracy: 87.23%\n",
      "Epoch 46 best model saved with accuracy: 87.39%\n",
      "Epoch 47 best model saved with accuracy: 87.61%\n",
      "Epoch 48 best model saved with accuracy: 87.83%\n",
      "Epoch 49 best model saved with accuracy: 88.15%\n",
      "Epoch:  50. Loss: 0.1303. Acc.: 88.32%\n",
      "Epoch 50 best model saved with accuracy: 88.32%\n",
      "Epoch 51 best model saved with accuracy: 88.59%\n",
      "Epoch 52 best model saved with accuracy: 88.72%\n",
      "Epoch 53 best model saved with accuracy: 88.94%\n",
      "Epoch 54 best model saved with accuracy: 89.18%\n",
      "Epoch:  55. Loss: 0.3787. Acc.: 89.43%\n",
      "Epoch 55 best model saved with accuracy: 89.43%\n",
      "Epoch 56 best model saved with accuracy: 89.67%\n",
      "Epoch 57 best model saved with accuracy: 89.92%\n",
      "Epoch 58 best model saved with accuracy: 90.05%\n",
      "Epoch 59 best model saved with accuracy: 90.24%\n",
      "Epoch:  60. Loss: 0.2989. Acc.: 90.46%\n",
      "Epoch 60 best model saved with accuracy: 90.46%\n",
      "Epoch 61 best model saved with accuracy: 90.65%\n",
      "Epoch 62 best model saved with accuracy: 90.82%\n",
      "Epoch 63 best model saved with accuracy: 90.98%\n",
      "Epoch 64 best model saved with accuracy: 91.17%\n",
      "Epoch:  65. Loss: 0.0773. Acc.: 91.33%\n",
      "Epoch 65 best model saved with accuracy: 91.33%\n",
      "Epoch 66 best model saved with accuracy: 91.41%\n",
      "Epoch 67 best model saved with accuracy: 91.49%\n",
      "Epoch 68 best model saved with accuracy: 91.68%\n",
      "Epoch 69 best model saved with accuracy: 91.82%\n",
      "Epoch:  70. Loss: 0.2012. Acc.: 92.04%\n",
      "Epoch 70 best model saved with accuracy: 92.04%\n",
      "Epoch 71 best model saved with accuracy: 92.09%\n",
      "Epoch 72 best model saved with accuracy: 92.15%\n",
      "Epoch 73 best model saved with accuracy: 92.17%\n",
      "Epoch 74 best model saved with accuracy: 92.39%\n",
      "Epoch:  75. Loss: 0.2656. Acc.: 92.47%\n",
      "Epoch 75 best model saved with accuracy: 92.47%\n",
      "Epoch 76 best model saved with accuracy: 92.69%\n",
      "Epoch 77 best model saved with accuracy: 92.80%\n",
      "Epoch 78 best model saved with accuracy: 92.88%\n",
      "Epoch 79 best model saved with accuracy: 92.96%\n",
      "Epoch:  80. Loss: 0.0141. Acc.: 93.07%\n",
      "Epoch 80 best model saved with accuracy: 93.07%\n",
      "Epoch 81 best model saved with accuracy: 93.18%\n",
      "Epoch 82 best model saved with accuracy: 93.29%\n",
      "Epoch 83 best model saved with accuracy: 93.45%\n",
      "Epoch 84 best model saved with accuracy: 93.61%\n",
      "Epoch:  85. Loss: 0.1489. Acc.: 93.70%\n",
      "Epoch 85 best model saved with accuracy: 93.70%\n",
      "Epoch 86 best model saved with accuracy: 93.80%\n",
      "Epoch 87 best model saved with accuracy: 93.91%\n",
      "Epoch 88 best model saved with accuracy: 94.02%\n",
      "Epoch 89 best model saved with accuracy: 94.08%\n",
      "Epoch:  90. Loss: 0.2240. Acc.: 94.13%\n",
      "Epoch 90 best model saved with accuracy: 94.13%\n",
      "Epoch 91 best model saved with accuracy: 94.24%\n",
      "Epoch 92 best model saved with accuracy: 94.29%\n",
      "Epoch 93 best model saved with accuracy: 94.38%\n",
      "Epoch:  95. Loss: 0.1246. Acc.: 94.38%\n",
      "Epoch 96 best model saved with accuracy: 94.43%\n",
      "Epoch 97 best model saved with accuracy: 94.62%\n",
      "Epoch 98 best model saved with accuracy: 94.81%\n",
      "Epoch 99 best model saved with accuracy: 94.84%\n",
      "Epoch: 100. Loss: 0.2681. Acc.: 94.92%\n",
      "Epoch 100 best model saved with accuracy: 94.92%\n",
      "Total Training Time: 53.69304687600007 seconds\n"
     ]
    }
   ],
   "source": [
    "\"\"\"\n",
    "relearning the model using pretrained model by SmartFall data\n",
    "\"\"\"\n",
    "model.load_state_dict(torch.load('SmartFall_gru.pth'))\n",
    "train_loss, train_acc = list(), list()\n",
    "for epoch in range(1, n_epochs + 1):\n",
    "    start_time = time.process_time()\n",
    "    for i, (X_batch, y_batch) in enumerate(train_loader):\n",
    "        model.train()\n",
    "        X_batch = X_batch.float().cuda()\n",
    "        y_batch = y_batch.cuda()\n",
    "        optimizer.zero_grad()\n",
    "        out = model(X_batch)\n",
    "        loss = criterion(out, y_batch)\n",
    "        loss.backward()\n",
    "        optimizer.step()\n",
    "        sched.step()\n",
    "    current_time = time.process_time()\n",
    "    epoch_times.append(current_time-start_time)\n",
    "    \n",
    "    model.eval()\n",
    "    correct, total = 0, 0\n",
    "    for x_val, y_val in valid_loader:\n",
    "        x_val, y_val = [t.cuda() for t in (x_val.float(), y_val)]\n",
    "        out = model(x_val)\n",
    "        preds = F.log_softmax(out, dim=1).argmax(dim=1)\n",
    "        total += y_val.size(0)\n",
    "        correct += (preds == y_val).sum().item()\n",
    "        \n",
    "    acc = correct / total\n",
    "    \n",
    "    train_loss.append(loss.item())\n",
    "    train_acc.append(acc)\n",
    "    \n",
    "    if epoch % 5 == 0:\n",
    "        print(f'Epoch: {epoch:3d}. Loss: {loss.item():.4f}. Acc.: {acc:2.2%}')\n",
    "        \n",
    "    if acc > best_acc:\n",
    "        trials = 0\n",
    "        best_acc = acc\n",
    "        torch.save(model.state_dict(), 'SmartFall_gru_transfer_learning_to_MobiAct.pth')\n",
    "        print(f'Epoch {epoch} best model saved with accuracy: {best_acc:2.2%}')\n",
    "    else:\n",
    "        trials += 1\n",
    "        if trials >= patience:\n",
    "            print(f'Early stopping on epoch {epoch}')\n",
    "            break\n",
    "print(\"Total Training Time: {} seconds\".format(str(sum(epoch_times))))"
   ]
  },
  {
   "cell_type": "code",
   "execution_count": 19,
   "metadata": {
    "ExecuteTime": {
     "end_time": "2020-07-28T11:05:26.178142Z",
     "start_time": "2020-07-28T11:05:26.054707Z"
    }
   },
   "outputs": [
    {
     "data": {
      "image/png": "[encoded data removed]",
      "text/plain": [
       "<Figure size 720x216 with 2 Axes>"
      ]
     },
     "metadata": {
      "needs_background": "light"
     },
     "output_type": "display_data"
    }
   ],
   "source": [
    "plt.figure(figsize=(10, 3))\n",
    "plt.suptitle('GRU Model', fontsize=20, y=1.1)\n",
    "plt.subplot(1, 2, 1)\n",
    "plt.plot(np.arange(len(train_loss)), train_loss)\n",
    "plt.yticks([0.0, 0.5, 1.0], fontsize=15)\n",
    "plt.xticks([0, 50, 100], fontsize=15)\n",
    "plt.title('Loss', fontsize=20)\n",
    "\n",
    "plt.subplot(1, 2, 2)\n",
    "plt.plot(np.arange(len(train_acc)), train_acc)\n",
    "plt.yticks([0.75, 0.85, 0.95], fontsize=15)\n",
    "plt.xticks([0, 50, 100], fontsize=15)\n",
    "plt.title('Accuracy',fontsize=20)\n",
    "plt.subplots_adjust(hspace=1)\n",
    "\n",
    "plt.show()\n"
   ]
  },
  {
   "cell_type": "code",
   "execution_count": 20,
   "metadata": {
    "ExecuteTime": {
     "end_time": "2020-07-28T11:05:34.557769Z",
     "start_time": "2020-07-28T11:05:34.551096Z"
    }
   },
   "outputs": [],
   "source": [
    "#loading LSTM transfer learning result\n",
    "lstm_transfer = pd.read_csv('lstm_transfer', index_col=0)\n",
    "\n",
    "gru_transfer = pd.DataFrame(train_loss)\n",
    "gru_transfer.columns=['train_loss']\n",
    "gru_transfer['train_acc'] = pd.DataFrame(train_acc)"
   ]
  },
  {
   "cell_type": "code",
   "execution_count": 25,
   "metadata": {
    "ExecuteTime": {
     "end_time": "2020-07-28T11:10:21.954621Z",
     "start_time": "2020-07-28T11:10:21.708305Z"
    }
   },
   "outputs": [
    {
     "data": {
      "image/png": "[encoded data removed]",
      "text/plain": [
       "<Figure size 720x360 with 2 Axes>"
      ]
     },
     "metadata": {
      "needs_background": "light"
     },
     "output_type": "display_data"
    }
   ],
   "source": [
    "plt.figure(figsize=(10, 5))\n",
    "plt.subplot(1, 2, 1)\n",
    "plt.plot(gru_transfer['train_loss'], label='GRU')\n",
    "plt.plot(lstm_transfer['train_loss'][:100], label='LSTM', color='orange', linestyle=':', linewidth=3.0)\n",
    "plt.xticks(fontsize=15)\n",
    "plt.yticks(fontsize=15)\n",
    "plt.title('Loss', fontsize=20)\n",
    "\n",
    "plt.subplot(1, 2, 2)\n",
    "plt.plot(gru_transfer['train_acc'], label='GRU')\n",
    "plt.plot(lstm_transfer['train_acc'][:100], label='LSTM', linestyle='--', linewidth=3.0)\n",
    "plt.xticks(fontsize=15)\n",
    "plt.yticks(fontsize=15)\n",
    "plt.legend(fontsize=15)\n",
    "plt.title('Accuracy', fontsize=20)\n",
    "plt.show()"
   ]
  },
  {
   "cell_type": "code",
   "execution_count": 22,
   "metadata": {
    "ExecuteTime": {
     "end_time": "2020-07-28T11:06:06.869456Z",
     "start_time": "2020-07-28T11:06:06.739318Z"
    }
   },
   "outputs": [
    {
     "name": "stdout",
     "output_type": "stream",
     "text": [
      "95.85779517286366\n",
      "[[1449   89]\n",
      " [  38 1490]]\n"
     ]
    }
   ],
   "source": [
    "# evaluation with test dataset\n",
    "from sklearn.metrics import classification_report, confusion_matrix, accuracy_score\n",
    "\n",
    "targets = list()\n",
    "preds = list()\n",
    "correct = 0\n",
    "model.load_state_dict(torch.load('SmartFall_gru_transfer_learning_to_MobiAct.pth'))\n",
    "with torch.no_grad():\n",
    "    for X, y in test_loader:\n",
    "        X, y = X.cuda(), y.cuda()\n",
    "        output = model(X.float())\n",
    "        pred = output.max(1, keepdim=True)[1]\n",
    "        correct += pred.eq(y.view_as(pred)).sum().item()\n",
    "\n",
    "        targets += list(y.cpu().numpy())\n",
    "        preds += list(pred.cpu().numpy())\n",
    "\n",
    "test_acc = 100. * correct / len(test_loader.dataset)\n",
    "confusion_mtx = confusion_matrix(targets, preds)\n",
    "print(test_acc)\n",
    "print(confusion_mtx)"
   ]
  },
  {
   "cell_type": "code",
   "execution_count": 23,
   "metadata": {
    "ExecuteTime": {
     "end_time": "2020-07-28T11:06:07.938225Z",
     "start_time": "2020-07-28T11:06:07.924026Z"
    }
   },
   "outputs": [
    {
     "name": "stdout",
     "output_type": "stream",
     "text": [
      "              precision    recall  f1-score   support\n",
      "\n",
      "           0       0.97      0.94      0.96      1538\n",
      "           1       0.94      0.98      0.96      1528\n",
      "\n",
      "    accuracy                           0.96      3066\n",
      "   macro avg       0.96      0.96      0.96      3066\n",
      "weighted avg       0.96      0.96      0.96      3066\n",
      "\n"
     ]
    }
   ],
   "source": [
    "print(classification_report(targets, preds))"
   ]
  },
  {
   "cell_type": "code",
   "execution_count": 24,
   "metadata": {
    "ExecuteTime": {
     "end_time": "2020-07-28T11:06:09.120684Z",
     "start_time": "2020-07-28T11:06:09.091571Z"
    }
   },
   "outputs": [
    {
     "name": "stdout",
     "output_type": "stream",
     "text": [
      "0.9436352121595947\n",
      "0.975130890052356\n",
      "0.9591245574509173\n"
     ]
    }
   ],
   "source": [
    "from sklearn.metrics import f1_score, precision_score, recall_score\n",
    "\n",
    "print(precision_score(targets, preds))\n",
    "print(recall_score(targets, preds))\n",
    "print(f1_score(targets, preds))"
   ]
  },
  {
   "cell_type": "code",
   "execution_count": null,
   "metadata": {},
   "outputs": [],
   "source": []
  }
 ],
 "metadata": {
  "kernelspec": {
   "display_name": "Python 3",
   "language": "python",
   "name": "python3"
  },
  "language_info": {
   "codemirror_mode": {
    "name": "ipython",
    "version": 3
   },
   "file_extension": ".py",
   "mimetype": "text/x-python",
   "name": "python",
   "nbconvert_exporter": "python",
   "pygments_lexer": "ipython3",
   "version": "3.7.6"
  },
  "toc": {
   "base_numbering": 1,
   "nav_menu": {},
   "number_sections": false,
   "sideBar": true,
   "skip_h1_title": false,
   "title_cell": "Table of Contents",
   "title_sidebar": "Contents",
   "toc_cell": false,
   "toc_position": {},
   "toc_section_display": true,
   "toc_window_display": false
  }
 },
 "nbformat": 4,
 "nbformat_minor": 2
}
