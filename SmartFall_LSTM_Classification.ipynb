{
 "cells": [
  {
   "cell_type": "code",
   "execution_count": 1,
   "metadata": {
    "ExecuteTime": {
     "end_time": "2020-07-28T10:41:39.264397Z",
     "start_time": "2020-07-28T10:41:38.449548Z"
    }
   },
   "outputs": [],
   "source": [
    "import matplotlib.pyplot as plt\n",
    "import numpy as np\n",
    "import pandas as pd\n",
    "import tqdm\n",
    "import collections \n",
    "import time\n",
    "%matplotlib inline\n",
    "\n",
    "from sklearn.model_selection import train_test_split\n",
    "from sklearn.preprocessing import LabelEncoder\n",
    "\n",
    "import torch\n",
    "from torch import nn\n",
    "from torch.nn import functional as F\n",
    "from torch.utils.data import TensorDataset, DataLoader\n",
    "from torch.optim.lr_scheduler import _LRScheduler"
   ]
  },
  {
   "cell_type": "code",
   "execution_count": 2,
   "metadata": {
    "ExecuteTime": {
     "end_time": "2020-07-28T10:41:54.923781Z",
     "start_time": "2020-07-28T10:41:54.905617Z"
    }
   },
   "outputs": [
    {
     "data": {
      "text/plain": [
       "'cuda:0'"
      ]
     },
     "execution_count": 2,
     "metadata": {},
     "output_type": "execute_result"
    }
   ],
   "source": [
    "np.random.seed(42)\n",
    "device = 'cuda:0' if torch.cuda.is_available() else 'cpu'\n",
    "device"
   ]
  },
  {
   "cell_type": "code",
   "execution_count": 3,
   "metadata": {
    "ExecuteTime": {
     "end_time": "2020-07-28T10:41:56.760905Z",
     "start_time": "2020-07-28T10:41:56.633517Z"
    }
   },
   "outputs": [],
   "source": [
    "data_dir = \"/workspace/inkyung/Fall Detection/\"\n",
    "\n",
    "train = pd.read_csv('/workspace/inkyung/Fall Detection/SmartFall_dataset/SmartFall Training.csv')\n",
    "test = pd.read_csv('/workspace/inkyung/Fall Detection/SmartFall_dataset/SmartFall Testing.csv')"
   ]
  },
  {
   "cell_type": "markdown",
   "metadata": {},
   "source": [
    "## Preprecessing\n",
    "\n",
    "- sliding window size of 40\n",
    "- if data contains all fall samples(25 samples) then, label as 'FALL'\n",
    "- unless, it's all labelled as 'ADL'"
   ]
  },
  {
   "cell_type": "code",
   "execution_count": 4,
   "metadata": {
    "ExecuteTime": {
     "end_time": "2020-07-28T10:43:08.676638Z",
     "start_time": "2020-07-28T10:42:10.878448Z"
    }
   },
   "outputs": [
    {
     "data": {
      "application/vnd.jupyter.widget-view+json": {
       "model_id": "45c02845e2914b258a26cc25a18b2e65",
       "version_major": 2,
       "version_minor": 0
      },
      "text/plain": [
       "HBox(children=(FloatProgress(value=0.0, max=92741.0), HTML(value='')))"
      ]
     },
     "metadata": {},
     "output_type": "display_data"
    },
    {
     "name": "stdout",
     "output_type": "stream",
     "text": [
      "\n"
     ]
    }
   ],
   "source": [
    "n = 40\n",
    "X_train, y_train = list(), list()\n",
    "\n",
    "for i in tqdm.notebook.tqdm(range(0, len(train)-40)):\n",
    "    temp = list()\n",
    "    \n",
    "    temp.append(train[' ms_accelerometer_x'][i : i + n])\n",
    "    temp.append(train[' ms_accelerometer_y'][i : i + n])\n",
    "    temp.append(train[' ms_accelerometer_z'][i : i + n])\n",
    "    \n",
    "    cnt = collections.Counter(train['outcome'][i: i + n])\n",
    "    num_adl = cnt[0]\n",
    "    num_fall = cnt[1]\n",
    "    \n",
    "    if num_fall == 25:\n",
    "        y_train.append(1)\n",
    "    else:\n",
    "        y_train.append(0)\n",
    "    \n",
    "    X_train.append(temp)"
   ]
  },
  {
   "cell_type": "code",
   "execution_count": 5,
   "metadata": {
    "ExecuteTime": {
     "end_time": "2020-07-28T10:44:04.084169Z",
     "start_time": "2020-07-28T10:43:08.678712Z"
    }
   },
   "outputs": [
    {
     "data": {
      "application/vnd.jupyter.widget-view+json": {
       "model_id": "fd751c1bc0e646b5a806284da7547ab9",
       "version_major": 2,
       "version_minor": 0
      },
      "text/plain": [
       "HBox(children=(FloatProgress(value=0.0, max=90985.0), HTML(value='')))"
      ]
     },
     "metadata": {},
     "output_type": "display_data"
    },
    {
     "name": "stdout",
     "output_type": "stream",
     "text": [
      "\n"
     ]
    }
   ],
   "source": [
    "n = 40\n",
    "X_test_adl, X_test_fall, y_test_adl, y_test_fall = list(), list(), list(), list()\n",
    "for i in tqdm.notebook.tqdm(range(0, len(test) - 40)):\n",
    "    temp = list()\n",
    "    \n",
    "    temp.append(test[' ms_accelerometer_x'][i : i + n])\n",
    "    temp.append(test[' ms_accelerometer_y'][i : i + n])\n",
    "    temp.append(test[' ms_accelerometer_z'][i : i + n])\n",
    "    \n",
    "    cnt = collections.Counter(test['outcome'][i : i + n])\n",
    "    num_adl = cnt[0]\n",
    "    num_fall = cnt[1]\n",
    "    \n",
    "    if num_fall == 25:\n",
    "        y_test_fall.append(1)\n",
    "        X_test_fall.append(temp)\n",
    "    else:\n",
    "        y_test_adl.append(0)\n",
    "        X_test_adl.append(temp)"
   ]
  },
  {
   "cell_type": "code",
   "execution_count": 6,
   "metadata": {
    "ExecuteTime": {
     "end_time": "2020-07-28T10:44:04.097816Z",
     "start_time": "2020-07-28T10:44:04.091016Z"
    }
   },
   "outputs": [
    {
     "name": "stdout",
     "output_type": "stream",
     "text": [
      "3216\n",
      "87769\n"
     ]
    }
   ],
   "source": [
    "print(len(y_test_fall))\n",
    "print(len(y_test_adl))"
   ]
  },
  {
   "cell_type": "code",
   "execution_count": 7,
   "metadata": {
    "ExecuteTime": {
     "end_time": "2020-07-28T10:44:04.480489Z",
     "start_time": "2020-07-28T10:44:04.099653Z"
    }
   },
   "outputs": [],
   "source": [
    "# to keep the balance between ADL and FALL data, used only part of ADL data\n",
    "\n",
    "X_test_adl = X_test_adl[:3216]\n",
    "y_test_adl = y_test_adl[:3216]\n",
    "\n",
    "y_test = y_test_adl + y_test_fall\n",
    "X_test = X_test_adl + X_test_fall"
   ]
  },
  {
   "cell_type": "code",
   "execution_count": 8,
   "metadata": {
    "ExecuteTime": {
     "end_time": "2020-07-28T10:44:04.494895Z",
     "start_time": "2020-07-28T10:44:04.483486Z"
    }
   },
   "outputs": [
    {
     "name": "stdout",
     "output_type": "stream",
     "text": [
      "length of test data 6432\n"
     ]
    }
   ],
   "source": [
    "print('length of test data', len(X_test))"
   ]
  },
  {
   "cell_type": "code",
   "execution_count": 9,
   "metadata": {
    "ExecuteTime": {
     "end_time": "2020-07-28T10:44:04.514343Z",
     "start_time": "2020-07-28T10:44:04.496499Z"
    }
   },
   "outputs": [
    {
     "name": "stdout",
     "output_type": "stream",
     "text": [
      "train data adl and fall ratio\n",
      "--------------------------------\n",
      "train data adl ratio:  87509\n",
      "train data fall ratio:  5232\n",
      "--------------------------------\n",
      "test data adl ratio:  3216\n",
      "test data fall ratio:  3216\n"
     ]
    }
   ],
   "source": [
    "print('train data adl and fall ratio')\n",
    "print('--------------------------------')\n",
    "cnt_train = collections.Counter(y_train)\n",
    "print('train data adl ratio: ', cnt_train[0])\n",
    "print('train data fall ratio: ', cnt_train[1])\n",
    "print('--------------------------------')\n",
    "\n",
    "cnt_test = collections.Counter(y_test)\n",
    "print('test data adl ratio: ', cnt_test[0])\n",
    "print('test data fall ratio: ', cnt_test[1])"
   ]
  },
  {
   "cell_type": "markdown",
   "metadata": {},
   "source": [
    "## implementing cyclic learning rate\n",
    "\n",
    "- implementing a simple cosine scheduler "
   ]
  },
  {
   "cell_type": "code",
   "execution_count": 10,
   "metadata": {
    "ExecuteTime": {
     "end_time": "2020-07-28T10:44:04.522255Z",
     "start_time": "2020-07-28T10:44:04.516042Z"
    }
   },
   "outputs": [],
   "source": [
    "class CyclicLR(_LRScheduler):\n",
    "    \n",
    "    def __init__(self, optimizer, schedule, last_epoch=-1):\n",
    "        assert callable(schedule)\n",
    "        self.schedule = schedule\n",
    "        super().__init__(optimizer, last_epoch)\n",
    "\n",
    "    def get_lr(self):\n",
    "        return [self.schedule(self.last_epoch, lr) for lr in self.base_lrs]"
   ]
  },
  {
   "cell_type": "code",
   "execution_count": 11,
   "metadata": {
    "ExecuteTime": {
     "end_time": "2020-07-28T10:44:04.528096Z",
     "start_time": "2020-07-28T10:44:04.524181Z"
    }
   },
   "outputs": [],
   "source": [
    "def cosine(t_max, eta_min=0):\n",
    "    \n",
    "    def scheduler(epoch, base_lr):\n",
    "        t = epoch % t_max\n",
    "        return eta_min + (base_lr - eta_min)*(1 + np.cos(np.pi*t/t_max))/2\n",
    "    \n",
    "    return scheduler"
   ]
  },
  {
   "cell_type": "code",
   "execution_count": 12,
   "metadata": {
    "ExecuteTime": {
     "end_time": "2020-07-28T10:44:10.044260Z",
     "start_time": "2020-07-28T10:44:09.803264Z"
    }
   },
   "outputs": [
    {
     "data": {
      "text/plain": [
       "[<matplotlib.lines.Line2D at 0x7f2d458f5990>]"
      ]
     },
     "execution_count": 12,
     "metadata": {},
     "output_type": "execute_result"
    },
    {
     "data": {
      "image/png": "[encoded data removed]",
      "text/plain": [
       "<Figure size 432x288 with 1 Axes>"
      ]
     },
     "metadata": {
      "needs_background": "light"
     },
     "output_type": "display_data"
    }
   ],
   "source": [
    "n = 100\n",
    "sched = cosine(n)\n",
    "lrs = [sched(t, 1) for t in range(n * 4)]\n",
    "plt.plot(lrs)"
   ]
  },
  {
   "cell_type": "markdown",
   "metadata": {},
   "source": [
    "## LSTM model declaration \n"
   ]
  },
  {
   "cell_type": "code",
   "execution_count": 13,
   "metadata": {
    "ExecuteTime": {
     "end_time": "2020-07-28T10:44:11.872338Z",
     "start_time": "2020-07-28T10:44:11.861866Z"
    }
   },
   "outputs": [],
   "source": [
    "class LSTMNet(nn.Module):\n",
    "    def __init__(self, input_dim, hidden_dim, n_layers, output_dim):\n",
    "        super(LSTMNet, self).__init__()\n",
    "        self.hidden_dim = hidden_dim\n",
    "        self.n_layers = n_layers\n",
    "        \n",
    "        self.lstm = nn.LSTM(input_dim, hidden_dim, n_layers, batch_first=True)\n",
    "        self.fc = nn.Linear(hidden_dim, output_dim)\n",
    "        self.relu = nn.ReLU()\n",
    "        \n",
    "    def forward(self, x):\n",
    "        h0, c0 = self.init_hidden(x)\n",
    "        out, (hn, cn) = self.lstm(x, (h0, c0))\n",
    "        out = self.fc(self.relu(out[:, -1]))\n",
    "        return out\n",
    "    \n",
    "    def init_hidden(self, x):\n",
    "        h0 = torch.zeros(self.n_layers, x.size(0), self.hidden_dim)\n",
    "        c0 = torch.zeros(self.n_layers, x.size(0), self.hidden_dim)\n",
    "        return [t.cuda() for t in (h0, c0)]"
   ]
  },
  {
   "cell_type": "markdown",
   "metadata": {},
   "source": [
    "## Preparing datasets"
   ]
  },
  {
   "cell_type": "code",
   "execution_count": 14,
   "metadata": {
    "ExecuteTime": {
     "end_time": "2020-07-28T10:44:49.599895Z",
     "start_time": "2020-07-28T10:44:15.959072Z"
    }
   },
   "outputs": [],
   "source": [
    "X_train = np.asarray(X_train).reshape(-1, 40, 3)\n",
    "y_train = np.asarray(y_train).reshape(-1, )\n",
    "\n",
    "X_test = np.asarray(X_test).reshape(-1, 40, 3)\n",
    "y_test = np.asarray(y_test).reshape(-1, )"
   ]
  },
  {
   "cell_type": "code",
   "execution_count": 15,
   "metadata": {
    "ExecuteTime": {
     "end_time": "2020-07-28T10:44:49.621197Z",
     "start_time": "2020-07-28T10:44:49.607656Z"
    }
   },
   "outputs": [],
   "source": [
    "from sklearn.preprocessing import LabelEncoder\n",
    "enc = LabelEncoder()\n",
    "\n",
    "y_train = enc.fit_transform(y_train)\n",
    "y_test = enc.fit_transform(y_test)"
   ]
  },
  {
   "cell_type": "code",
   "execution_count": 16,
   "metadata": {
    "ExecuteTime": {
     "end_time": "2020-07-28T10:44:49.739329Z",
     "start_time": "2020-07-28T10:44:49.623496Z"
    }
   },
   "outputs": [],
   "source": [
    "X_train, X_valid, y_train, y_valid = train_test_split(X_train, y_train, test_size=0.1)"
   ]
  },
  {
   "cell_type": "code",
   "execution_count": 18,
   "metadata": {
    "ExecuteTime": {
     "end_time": "2020-07-28T10:44:58.049206Z",
     "start_time": "2020-07-28T10:44:58.043697Z"
    }
   },
   "outputs": [],
   "source": [
    "batch_size = 128\n",
    "\n",
    "train_data = TensorDataset(torch.from_numpy(X_train), torch.from_numpy(y_train))\n",
    "train_loader = torch.utils.data.DataLoader(\n",
    "    train_data,\n",
    "    shuffle=True, batch_size=batch_size)\n",
    "\n",
    "valid_data = TensorDataset(torch.from_numpy(X_valid), torch.from_numpy(y_valid))\n",
    "valid_loader = torch.utils.data.DataLoader(\n",
    "    valid_data,\n",
    "    shuffle=True, batch_size=batch_size)\n",
    "\n",
    "test_data =TensorDataset(torch.from_numpy(X_test), torch.from_numpy(y_test))\n",
    "test_loader = torch.utils.data.DataLoader(\n",
    "    test_data,\n",
    "    shuffle=True, batch_size=batch_size)"
   ]
  },
  {
   "cell_type": "markdown",
   "metadata": {},
   "source": [
    "## Model training"
   ]
  },
  {
   "cell_type": "code",
   "execution_count": 19,
   "metadata": {
    "ExecuteTime": {
     "end_time": "2020-07-28T10:45:02.402528Z",
     "start_time": "2020-07-28T10:44:59.251870Z"
    }
   },
   "outputs": [
    {
     "name": "stdout",
     "output_type": "stream",
     "text": [
      "LSTMNet(\n",
      "  (lstm): LSTM(3, 256, num_layers=2, batch_first=True)\n",
      "  (fc): Linear(in_features=256, out_features=2, bias=True)\n",
      "  (relu): ReLU()\n",
      ")\n"
     ]
    }
   ],
   "source": [
    "input_dim = next(iter(train_loader))[0].shape[2]\n",
    "output_dim = 2\n",
    "n_layers = 2\n",
    "hidden_dim = 256\n",
    "\n",
    "lr = 0.0001\n",
    "n_epochs = 40\n",
    "iterations_per_epoch = len(train_loader)\n",
    "best_acc = 0.\n",
    "patience, trials = 15, 0\n",
    "\n",
    "model = LSTMNet(input_dim, hidden_dim, output_dim, n_layers).cuda()\n",
    "print(model)\n",
    "criterion = nn.CrossEntropyLoss().cuda()\n",
    "optimizer = torch.optim.Adam(model.parameters(), lr=lr)\n",
    "sched = CyclicLR(optimizer, cosine(t_max=iterations_per_epoch * 2, eta_min = lr/10))\n",
    "epoch_times = []"
   ]
  },
  {
   "cell_type": "code",
   "execution_count": 20,
   "metadata": {
    "ExecuteTime": {
     "end_time": "2020-07-28T10:53:15.061213Z",
     "start_time": "2020-07-28T10:45:03.322716Z"
    }
   },
   "outputs": [
    {
     "name": "stdout",
     "output_type": "stream",
     "text": [
      "Start model training\n",
      "Epoch 1 best model saved with accuracy: 94.27%\n",
      "Epoch 4 best model saved with accuracy: 94.35%\n",
      "Epoch:   5. Loss: 0.0060. Acc.: 96.65%\n",
      "Epoch 5 best model saved with accuracy: 96.65%\n",
      "Epoch 6 best model saved with accuracy: 97.41%\n",
      "Epoch 7 best model saved with accuracy: 97.82%\n",
      "Epoch 8 best model saved with accuracy: 97.91%\n",
      "Epoch:  10. Loss: 0.0066. Acc.: 98.06%\n",
      "Epoch 10 best model saved with accuracy: 98.06%\n",
      "Epoch 12 best model saved with accuracy: 98.27%\n",
      "Epoch 14 best model saved with accuracy: 98.31%\n",
      "Epoch:  15. Loss: 0.0038. Acc.: 98.12%\n",
      "Epoch 16 best model saved with accuracy: 98.35%\n",
      "Epoch 17 best model saved with accuracy: 98.42%\n",
      "Epoch 18 best model saved with accuracy: 98.45%\n",
      "Epoch:  20. Loss: 0.0012. Acc.: 98.45%\n",
      "Epoch 22 best model saved with accuracy: 98.52%\n",
      "Epoch 24 best model saved with accuracy: 98.71%\n",
      "Epoch:  25. Loss: 0.2449. Acc.: 98.64%\n",
      "Epoch 26 best model saved with accuracy: 98.74%\n",
      "Epoch:  30. Loss: 0.0001. Acc.: 98.77%\n",
      "Epoch 30 best model saved with accuracy: 98.77%\n",
      "Epoch 32 best model saved with accuracy: 98.89%\n",
      "Epoch 34 best model saved with accuracy: 98.95%\n",
      "Epoch:  35. Loss: 0.0400. Acc.: 98.85%\n",
      "Epoch:  40. Loss: 0.0003. Acc.: 98.98%\n",
      "Epoch 40 best model saved with accuracy: 98.98%\n",
      "Total Training Time: 289.852503915 seconds\n"
     ]
    }
   ],
   "source": [
    "print('Start model training')\n",
    "train_loss, train_acc = list(), list()\n",
    "for epoch in range(1, n_epochs + 1):\n",
    "    start_time = time.process_time()\n",
    "    for i, (X_batch, y_batch) in enumerate(train_loader):\n",
    "        model.train()\n",
    "        X_batch = X_batch.float().cuda()\n",
    "        y_batch = y_batch.cuda()\n",
    "        optimizer.zero_grad()\n",
    "        out = model(X_batch)\n",
    "        loss = criterion(out, y_batch)\n",
    "        loss.backward()\n",
    "        optimizer.step()\n",
    "        sched.step()\n",
    "    current_time = time.process_time()\n",
    "    epoch_times.append(current_time-start_time)\n",
    "    \n",
    "    model.eval()\n",
    "    correct, total = 0, 0\n",
    "    for x_val, y_val in valid_loader:\n",
    "        x_val, y_val = [t.cuda() for t in (x_val.float(), y_val)]\n",
    "        out = model(x_val)\n",
    "        preds = F.log_softmax(out, dim=1).argmax(dim=1)\n",
    "        total += y_val.size(0)\n",
    "        correct += (preds == y_val).sum().item()\n",
    "        \n",
    "    acc = correct / total\n",
    "    \n",
    "    train_loss.append(loss.item())\n",
    "    train_acc.append(acc)\n",
    "    \n",
    "    if epoch % 5 == 0:\n",
    "        print(f'Epoch: {epoch:3d}. Loss: {loss.item():.4f}. Acc.: {acc:2.2%}')\n",
    "        \n",
    "    if acc > best_acc:\n",
    "        trials = 0\n",
    "        best_acc = acc\n",
    "        torch.save(model.state_dict(), 'SmartFall_lstm.pth')\n",
    "        print(f'Epoch {epoch} best model saved with accuracy: {best_acc:2.2%}')\n",
    "    else:\n",
    "        trials += 1\n",
    "        if trials >= patience:\n",
    "            print(f'Early stopping on epoch {epoch}')\n",
    "            break\n",
    "print(\"Total Training Time: {} seconds\".format(str(sum(epoch_times))))"
   ]
  },
  {
   "cell_type": "code",
   "execution_count": 21,
   "metadata": {
    "ExecuteTime": {
     "end_time": "2020-07-28T10:53:15.309733Z",
     "start_time": "2020-07-28T10:53:15.063088Z"
    }
   },
   "outputs": [
    {
     "data": {
      "image/png": "[encoded data removed]",
      "text/plain": [
       "<Figure size 720x216 with 2 Axes>"
      ]
     },
     "metadata": {
      "needs_background": "light"
     },
     "output_type": "display_data"
    }
   ],
   "source": [
    "plt.figure(figsize=(10, 3))\n",
    "plt.suptitle('LSTM Model', fontsize=20, y=1.1)\n",
    "plt.subplot(1, 2, 1)\n",
    "plt.plot(np.arange(len(train_loss)), train_loss)\n",
    "plt.yticks([0.0, 0.10, 0.20], fontsize=15)\n",
    "plt.xticks([0, 20, 40], fontsize=15)\n",
    "plt.title('Loss', fontsize=20)\n",
    "\n",
    "plt.subplot(1, 2, 2)\n",
    "plt.plot(np.arange(len(train_acc)), train_acc)\n",
    "plt.yticks([0.94, 0.96, 0.98, 1.0],fontsize=15)\n",
    "plt.xticks([0, 20, 40], fontsize=15)\n",
    "plt.title('Accuracy',fontsize=20)\n",
    "plt.subplots_adjust(hspace=1)\n",
    "\n",
    "plt.show()"
   ]
  },
  {
   "cell_type": "code",
   "execution_count": 22,
   "metadata": {
    "ExecuteTime": {
     "end_time": "2020-07-28T10:53:15.894701Z",
     "start_time": "2020-07-28T10:53:15.311771Z"
    }
   },
   "outputs": [
    {
     "name": "stdout",
     "output_type": "stream",
     "text": [
      "93.98320895522389\n",
      "[[3203   13]\n",
      " [ 374 2842]]\n"
     ]
    }
   ],
   "source": [
    "# evaluation with test dataset\n",
    "from sklearn.metrics import classification_report, confusion_matrix, accuracy_score\n",
    "\n",
    "targets = list()\n",
    "preds = list()\n",
    "correct = 0\n",
    "model.load_state_dict(torch.load('SmartFall_lstm.pth'))\n",
    "with torch.no_grad():\n",
    "    for X, y in test_loader:\n",
    "        X, y = X.cuda(), y.cuda()\n",
    "        output = model(X.float())\n",
    "        pred = output.max(1, keepdim=True)[1]\n",
    "        correct += pred.eq(y.view_as(pred)).sum().item()\n",
    "\n",
    "        targets += list(y.cpu().numpy())\n",
    "        preds += list(pred.cpu().numpy())\n",
    "\n",
    "test_acc = 100. * correct / len(test_loader.dataset)\n",
    "confusion_mtx = confusion_matrix(targets, preds)\n",
    "print(test_acc)\n",
    "print(confusion_mtx)"
   ]
  },
  {
   "cell_type": "code",
   "execution_count": 23,
   "metadata": {
    "ExecuteTime": {
     "end_time": "2020-07-28T10:53:15.931862Z",
     "start_time": "2020-07-28T10:53:15.896701Z"
    }
   },
   "outputs": [
    {
     "name": "stdout",
     "output_type": "stream",
     "text": [
      "              precision    recall  f1-score   support\n",
      "\n",
      "           0       0.90      1.00      0.94      3216\n",
      "           1       1.00      0.88      0.94      3216\n",
      "\n",
      "    accuracy                           0.94      6432\n",
      "   macro avg       0.95      0.94      0.94      6432\n",
      "weighted avg       0.95      0.94      0.94      6432\n",
      "\n"
     ]
    }
   ],
   "source": [
    "print(classification_report(targets, preds))"
   ]
  },
  {
   "cell_type": "code",
   "execution_count": 24,
   "metadata": {
    "ExecuteTime": {
     "end_time": "2020-07-28T10:53:16.032476Z",
     "start_time": "2020-07-28T10:53:15.938006Z"
    }
   },
   "outputs": [
    {
     "name": "stdout",
     "output_type": "stream",
     "text": [
      "0.9362543238346237\n",
      "0.8837064676616916\n",
      "0.9954465849387041\n"
     ]
    }
   ],
   "source": [
    "from sklearn.metrics import f1_score, recall_score, precision_score\n",
    "\n",
    "print(f1_score(targets, preds))\n",
    "print(recall_score(targets, preds))\n",
    "print(precision_score(targets, preds))"
   ]
  },
  {
   "cell_type": "code",
   "execution_count": null,
   "metadata": {},
   "outputs": [],
   "source": []
  }
 ],
 "metadata": {
  "kernelspec": {
   "display_name": "Python 3",
   "language": "python",
   "name": "python3"
  },
  "language_info": {
   "codemirror_mode": {
    "name": "ipython",
    "version": 3
   },
   "file_extension": ".py",
   "mimetype": "text/x-python",
   "name": "python",
   "nbconvert_exporter": "python",
   "pygments_lexer": "ipython3",
   "version": "3.7.6"
  },
  "toc": {
   "base_numbering": 1,
   "nav_menu": {},
   "number_sections": false,
   "sideBar": true,
   "skip_h1_title": false,
   "title_cell": "Table of Contents",
   "title_sidebar": "Contents",
   "toc_cell": false,
   "toc_position": {},
   "toc_section_display": true,
   "toc_window_display": false
  }
 },
 "nbformat": 4,
 "nbformat_minor": 2
}
